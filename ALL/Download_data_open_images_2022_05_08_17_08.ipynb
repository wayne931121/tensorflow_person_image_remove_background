{
 "cells": [
  {
   "cell_type": "markdown",
   "id": "12732ba4",
   "metadata": {},
   "source": [
    "# 接續image_process_view_csv.ipynb"
   ]
  },
  {
   "cell_type": "markdown",
   "id": "df8199e7",
   "metadata": {},
   "source": [
    "# 下載資料"
   ]
  },
  {
   "cell_type": "code",
   "execution_count": 1,
   "id": "2bd97594",
   "metadata": {},
   "outputs": [],
   "source": [
    "# 參考網站\n",
    "# https://towardsdatascience.com/master-the-coco-dataset-for-semantic-image-segmentation-part-1-of-2-732712631047\n",
    "# https://cocodataset.org/"
   ]
  },
  {
   "cell_type": "code",
   "execution_count": 2,
   "id": "1cf91b7d",
   "metadata": {},
   "outputs": [],
   "source": [
    "# import fiftyone\n",
    "import requests\n",
    "import cv2"
   ]
  },
  {
   "cell_type": "code",
   "execution_count": 3,
   "id": "d2931e03",
   "metadata": {},
   "outputs": [],
   "source": [
    "# dataset = fiftyone.zoo.load_zoo_dataset(\n",
    "#     \"open-images-v6\",\n",
    "#     split=\"validation\",\n",
    "#     label_types=[\"detections\"],\n",
    "#     classes=[\"person\"]\n",
    "# )"
   ]
  },
  {
   "cell_type": "code",
   "execution_count": 4,
   "id": "294dded2",
   "metadata": {},
   "outputs": [],
   "source": [
    "ever1 = []\n",
    "ever=[]"
   ]
  },
  {
   "cell_type": "code",
   "execution_count": 5,
   "id": "3b43b2e5",
   "metadata": {},
   "outputs": [],
   "source": [
    "# https://storage.googleapis.com/openimages/web/index.html"
   ]
  },
  {
   "cell_type": "code",
   "execution_count": 6,
   "id": "695288bb",
   "metadata": {},
   "outputs": [],
   "source": [
    "p=r\"C:\\Users\\sky66\\fiftyone\\open-images-v6\\validation\\metadata\\image_ids.csv\"\n",
    "p1=r\"C:\\Users\\sky66\\fiftyone\\open-images-v6\\validation\\labels\\detections.csv\"\n",
    "with open(p1, \"r\", encoding=\"utf8\") as f1:\n",
    "    c1 = iter(f1)\n",
    "    next(c1)\n",
    "    try:\n",
    "        while True:\n",
    "            s1 = next(c1).strip().split(\",\")\n",
    "            cls = s1[2]\n",
    "            if cls==\"/m/04yx4\" or cls==\"/m/03bt1vf\" or cls==\"/m/01bl7v\" or cls==\"/m/05r655\":\n",
    "                if s1[0] in ever1:\n",
    "                    continue\n",
    "                ever1.append(s1[0])\n",
    "                with open(p, \"r\", encoding=\"utf8\") as f:\n",
    "                    c = iter(f)\n",
    "                    next(c)\n",
    "                    try:\n",
    "                        while True:\n",
    "                            s = next(c).strip().split(\",\")\n",
    "                            if s[0]==s1[0]:\n",
    "                                ever.append(s[2])\n",
    "                                break\n",
    "                    except:\n",
    "                        pass\n",
    "    except:\n",
    "        pass\n"
   ]
  },
  {
   "cell_type": "code",
   "execution_count": 7,
   "id": "428122d5",
   "metadata": {},
   "outputs": [],
   "source": [
    "import concurrent.futures\n",
    "import shutil\n",
    "import os"
   ]
  },
  {
   "cell_type": "code",
   "execution_count": 8,
   "id": "1ac0ab6c",
   "metadata": {},
   "outputs": [],
   "source": [
    "exist = os.listdir(r\"C:\\Users\\sky66\\fiftyone\\open-images-v6\\validation\\data\")\n",
    "for _ in range(len(exist)):\n",
    "    exist[_] = exist[_].split(\".\")[0]"
   ]
  },
  {
   "cell_type": "code",
   "execution_count": 11,
   "id": "7255f787",
   "metadata": {},
   "outputs": [],
   "source": [
    "headers = {'User-Agent': 'Mozilla/5.0 (Windows NT 10.0; Win64; x64) AppleWebKit/537.36 (KHTML, like Gecko) Chrome/101.0.4951.54 Safari/537.36'}"
   ]
  },
  {
   "cell_type": "code",
   "execution_count": 14,
   "id": "23badfe1",
   "metadata": {},
   "outputs": [],
   "source": [
    "def stored(ids):\n",
    "    url = ever[ids]\n",
    "    if ever1[ids] in exist:\n",
    "        return\n",
    "    res = requests.get(url, headers=headers, stream=True)\n",
    "    if res.status_code == 200:\n",
    "        ever.append(s[0])\n",
    "        file = r\"C:\\Users\\sky66\\fiftyone\\open-images-v6\\validation\\data\"+\"\\\\\"+ever1[ids]+\".jpg\"\n",
    "        with open(file,'wb') as f:\n",
    "            shutil.copyfileobj(res.raw, f)\n",
    "        img = cv2.imread(file)\n",
    "        img = cv2.resize(img,(640,640))\n",
    "        cv2.imwrite(file, img)\n",
    "        return"
   ]
  },
  {
   "cell_type": "code",
   "execution_count": 15,
   "id": "7119cbb7",
   "metadata": {},
   "outputs": [],
   "source": [
    "# stored(0)"
   ]
  },
  {
   "cell_type": "code",
   "execution_count": 16,
   "id": "e979b58c",
   "metadata": {},
   "outputs": [],
   "source": [
    "Max = 30\n",
    "for n in range(0,len(ever),Max):\n",
    "    with concurrent.futures.ThreadPoolExecutor(max_workers=Max) as executor:\n",
    "        for i in range(n, n+len(ever[n:n+Max])):\n",
    "            executor.submit(stored, i) "
   ]
  }
 ],
 "metadata": {
  "kernelspec": {
   "display_name": "Python 3 (ipykernel)",
   "language": "python",
   "name": "python3"
  },
  "language_info": {
   "codemirror_mode": {
    "name": "ipython",
    "version": 3
   },
   "file_extension": ".py",
   "mimetype": "text/x-python",
   "name": "python",
   "nbconvert_exporter": "python",
   "pygments_lexer": "ipython3",
   "version": "3.9.7"
  }
 },
 "nbformat": 4,
 "nbformat_minor": 5
}
