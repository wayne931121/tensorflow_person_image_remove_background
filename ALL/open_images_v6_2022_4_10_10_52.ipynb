{
 "cells": [
  {
   "cell_type": "code",
   "execution_count": 2,
   "id": "f2f9885a",
   "metadata": {},
   "outputs": [],
   "source": [
    "# 從csv檔案對應mask名稱找到目標圖片並下載至新資料夾\n",
    "newd = \"C:\\\\Users\\\\sky66\\\\fiftyone\\\\open-images-v6\\\\validation\\\\labels\\\\masks\\\\Test\"\n",
    "images = \"C:\\\\Users\\\\sky66\\\\fiftyone\\\\open-images-v6\\\\validation\\\\labels\\\\Images\"\n",
    "\n",
    "def getIMG(source):\n",
    "    \n",
    "    src = source.split(\".\")[0] \n",
    "    url = 0\n",
    "    with open(r'C:\\Users\\sky66\\fiftyone\\open-images-v6\\validation\\metadata\\image_ids.csv' ,encoding=\"utf-8\") as infile:  \n",
    "        for line in infile: \n",
    "            line = line.split(\",\")\n",
    "            if line[0]==src:\n",
    "                url = line[2]\n",
    "                break\n",
    "    \n",
    "    file = images+\"\\\\\"+source\n",
    "    res = requests.get(url, stream = True)\n",
    "    if res.status_code == 200:\n",
    "        with open(file,'wb') as f:\n",
    "            shutil.copyfileobj(res.raw, f)\n",
    "    else:\n",
    "        os.remove(newd+\"\\\\\"+source)"
   ]
  },
  {
   "cell_type": "code",
   "execution_count": 3,
   "id": "79753437",
   "metadata": {},
   "outputs": [],
   "source": [
    "with open(r'C:\\Users\\sky66\\fiftyone\\open-images-v6\\validation\\metadata\\image_ids.csv' ,encoding=\"utf-8\") as infile:  \n",
    "        for line in infile: \n",
    "            line = line.split(\",\")\n",
    "            if line[0]==\"0b1fbd3ba02701cd\":\n",
    "                url = line[2]\n",
    "                break"
   ]
  },
  {
   "cell_type": "code",
   "execution_count": 4,
   "id": "44f57fb1",
   "metadata": {},
   "outputs": [
    {
     "data": {
      "text/plain": [
       "'https://c6.staticflickr.com/8/7245/7212145420_f9b455bce0_o.jpg'"
      ]
     },
     "execution_count": 4,
     "metadata": {},
     "output_type": "execute_result"
    }
   ],
   "source": [
    "url"
   ]
  }
 ],
 "metadata": {
  "kernelspec": {
   "display_name": "Python 3 (ipykernel)",
   "language": "python",
   "name": "python3"
  },
  "language_info": {
   "codemirror_mode": {
    "name": "ipython",
    "version": 3
   },
   "file_extension": ".py",
   "mimetype": "text/x-python",
   "name": "python",
   "nbconvert_exporter": "python",
   "pygments_lexer": "ipython3",
   "version": "3.9.7"
  }
 },
 "nbformat": 4,
 "nbformat_minor": 5
}
