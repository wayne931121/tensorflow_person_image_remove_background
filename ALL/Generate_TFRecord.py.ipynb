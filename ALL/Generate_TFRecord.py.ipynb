{
 "cells": [
  {
   "cell_type": "markdown",
   "metadata": {
    "id": "rOvvWAVTkMR7"
   },
   "source": [
    "# Eager Few Shot Object Detection Colab\n",
    "\n",
    "Welcome to the Eager Few Shot Object Detection Colab --- in this colab we demonstrate fine tuning of a (TF2 friendly) RetinaNet architecture on very few examples of a novel class after initializing from a pre-trained COCO checkpoint.\n",
    "Training runs in eager mode.\n",
    "\n",
    "Estimated time to run through this colab (with GPU): < 5 minutes."
   ]
  },
  {
   "cell_type": "markdown",
   "metadata": {
    "id": "vPs64QA1Zdov"
   },
   "source": [
    "## Imports"
   ]
  },
  {
   "cell_type": "code",
   "execution_count": null,
   "metadata": {},
   "outputs": [],
   "source": [
    "# cd  \"C:\\Users\\sky66\\Downloads\\models\\research\" (cd to this folder)\n",
    "# jupyter notebook\n",
    "\n",
    "# conda install tensorflow=2.5.0=gpu_py39h7dc34a2_0\n",
    "# conda uninstall tensorflow\n",
    "# pip install \"tensorflow==2.7.0\"\n",
    "\n",
    "# git clone --depth 1 https://github.com/tensorflow/models\n",
    "\n",
    "# pip uninstall pyparsing -y\n",
    "# pip install pyparsing==2.4.2\n",
    "\n",
    "# pip uninstall pyyaml -y\n",
    "# pip install pyyaml==5.1\n",
    "\n",
    "# protoc object_detection/protos/*.proto --python_out=.\n",
    "# python object_detection/packages/tf2/setup.py build\n",
    "# python object_detection/packages/tf2/setup.py install\n",
    "\n",
    "# conda list\n",
    "\n",
    "# 參考資料\n",
    "# https://www.jianshu.com/p/f8ffbf18c312\n",
    "# https://stackoverflow.com/questions/68737130/error-while-import-keras-attributeerror-module-tensorflow-compat-v2-interna\n",
    "# https://github.com/tensorflow/tensorflow/issues/53060\n",
    "# https://medium.com/ching-i/win10-%E5%AE%89%E8%A3%9D-cuda-cudnn-%E6%95%99%E5%AD%B8-c617b3b76deb\n",
    "# https://github.com/tensorflow/tensorflow/issues/52988\n",
    "# https://cppsecrets.com/users/17211410511511610510710997106117109100971144964103109971051084699111109/Python-tqdmsetpostfixstr.php\n",
    "# https://www.delftstack.com/zh-tw/howto/python/python-print-flush/"
   ]
  },
  {
   "cell_type": "markdown",
   "metadata": {},
   "source": [
    "# 將資料分成驗證和訓練用"
   ]
  },
  {
   "cell_type": "code",
   "execution_count": 18,
   "metadata": {},
   "outputs": [],
   "source": [
    "# !git clone https://github.com/datitran/raccoon_dataset.git"
   ]
  },
  {
   "cell_type": "code",
   "execution_count": 1,
   "metadata": {},
   "outputs": [],
   "source": [
    "import numpy as np\n",
    "import os\n",
    "import shutil"
   ]
  },
  {
   "cell_type": "code",
   "execution_count": 2,
   "metadata": {},
   "outputs": [],
   "source": [
    "# 取得用 Get_BBox.ipynb 創建的 bboxy 資料\n",
    "name = []\n",
    "bbox = []\n",
    "with open(\"bbox.csv\", \"r\", encoding=\"utf8\") as f:\n",
    "    for e in f:\n",
    "        e = e.strip()\n",
    "        d = e.split(\",\")\n",
    "        name.append(d[0])\n",
    "        bbox.append(np.array(d[1:], dtype=\"float16\"))"
   ]
  },
  {
   "cell_type": "code",
   "execution_count": null,
   "metadata": {},
   "outputs": [],
   "source": [
    "# 80% 訓練用，20%驗證用。\n",
    "train = round(len(name)*0.8)\n",
    "test = len(name)-train"
   ]
  },
  {
   "cell_type": "code",
   "execution_count": 3,
   "metadata": {},
   "outputs": [],
   "source": [
    "path = r\"C:\\Users\\sky66\\fiftyone\\coco-2017\\raw\\nlp\" # 原始圖像資料夾，圖片由 Get_BBox.ipynb 下載、創建\n",
    "tp = r\"C:\\Users\\sky66\\fiftyone\\coco-2017\\raw\\train\" # train path\n",
    "vp = r\"C:\\Users\\sky66\\fiftyone\\coco-2017\\raw\\test\" # val path"
   ]
  },
  {
   "cell_type": "code",
   "execution_count": null,
   "metadata": {},
   "outputs": [],
   "source": [
    "# 將圖像由原始資料夾移至新訓練用或驗證用資料夾"
   ]
  },
  {
   "cell_type": "code",
   "execution_count": null,
   "metadata": {},
   "outputs": [],
   "source": [
    "f = list(os.listdir(path))"
   ]
  },
  {
   "cell_type": "code",
   "execution_count": null,
   "metadata": {},
   "outputs": [],
   "source": [
    "for i  in range(test):\n",
    "    s = np.random.randint(0,len(f))\n",
    "    n = f.pop(s)\n",
    "    shutil.move(path+\"\\\\\"+n, vp+\"\\\\\"+n)"
   ]
  },
  {
   "cell_type": "code",
   "execution_count": null,
   "metadata": {},
   "outputs": [],
   "source": [
    "for i  in range(train):\n",
    "    n = f.pop(0)\n",
    "    shutil.move(path+\"\\\\\"+n, tp+\"\\\\\"+n)"
   ]
  },
  {
   "cell_type": "code",
   "execution_count": null,
   "metadata": {},
   "outputs": [],
   "source": [
    "# 準備資料建立tfrecord"
   ]
  },
  {
   "cell_type": "code",
   "execution_count": 4,
   "metadata": {},
   "outputs": [],
   "source": [
    "f1 = list(os.listdir(tp))\n",
    "f2 = list(os.listdir(vp))\n",
    "bt = []\n",
    "bv = []"
   ]
  },
  {
   "cell_type": "code",
   "execution_count": 5,
   "metadata": {},
   "outputs": [],
   "source": [
    "top = \",\".join([\"filename\", \"width\", \"height\", \"class\", \"xmin\", \"ymin\", \"xmax\", \"ymax\"])+\"\\n\""
   ]
  },
  {
   "cell_type": "code",
   "execution_count": 15,
   "metadata": {},
   "outputs": [],
   "source": [
    "for n, b in zip(name, bbox):\n",
    "    # ymin, xmin, ymax, xmax = b.tolist()\n",
    "    s = [n, 640, 640, \"person\", *b.tolist()]\n",
    "    if n in f1:\n",
    "        bt.append(s)\n",
    "    else:\n",
    "        bv.append(s)"
   ]
  },
  {
   "cell_type": "code",
   "execution_count": 16,
   "metadata": {
    "scrolled": true
   },
   "outputs": [
    {
     "data": {
      "text/plain": [
       "['train_000000000036.jpg',\n",
       " 640,\n",
       " 640,\n",
       " 'person',\n",
       " 0.25439453125,\n",
       " 0.348388671875,\n",
       " 0.9814453125,\n",
       " 0.994140625]"
      ]
     },
     "execution_count": 16,
     "metadata": {},
     "output_type": "execute_result"
    }
   ],
   "source": [
    "bt[0]"
   ]
  },
  {
   "cell_type": "markdown",
   "metadata": {},
   "source": [
    "# 建立TFRecord"
   ]
  },
  {
   "cell_type": "code",
   "execution_count": 17,
   "metadata": {},
   "outputs": [],
   "source": [
    "import os\n",
    "import io\n",
    "import tensorflow as tf\n",
    "\n",
    "from PIL import Image\n",
    "from object_detection.utils import dataset_util\n",
    "from collections import namedtuple, OrderedDict"
   ]
  },
  {
   "cell_type": "code",
   "execution_count": 18,
   "metadata": {},
   "outputs": [],
   "source": [
    "def create_tf_example(bbox, path):\n",
    "    n, w, h, C, ymin, xmin, ymax, xmax = bbox\n",
    "    with tf.io.gfile.GFile(os.path.join(path, n), 'rb') as fid:\n",
    "        encoded_jpg = fid.read()\n",
    "    encoded_jpg_io = io.BytesIO(encoded_jpg)\n",
    "\n",
    "\n",
    "    image_format = b'jpg'\n",
    "    xmins = [xmin]\n",
    "    xmaxs = [xmax]\n",
    "    ymins = [ymin]\n",
    "    ymaxs = [ymax]\n",
    "    classes_text = [bytes(C, \"utf8\")]\n",
    "    classes = [1]\n",
    "    width = w\n",
    "    height = h\n",
    "    filename = bytes(n, \"utf8\")\n",
    "\n",
    "    tf_example = tf.train.Example(features=tf.train.Features(feature={\n",
    "        'image/height': dataset_util.int64_feature(height),\n",
    "        'image/width': dataset_util.int64_feature(width),\n",
    "        'image/filename': dataset_util.bytes_feature(filename),\n",
    "        'image/source_id': dataset_util.bytes_feature(filename),\n",
    "        'image/encoded': dataset_util.bytes_feature(encoded_jpg),\n",
    "        'image/format': dataset_util.bytes_feature(image_format),\n",
    "        'image/object/bbox/xmin': dataset_util.float_list_feature(xmins),\n",
    "        'image/object/bbox/xmax': dataset_util.float_list_feature(xmaxs),\n",
    "        'image/object/bbox/ymin': dataset_util.float_list_feature(ymins),\n",
    "        'image/object/bbox/ymax': dataset_util.float_list_feature(ymaxs),\n",
    "        'image/object/class/text': dataset_util.bytes_list_feature(classes_text),\n",
    "        'image/object/class/label': dataset_util.int64_list_feature(classes),\n",
    "    }))\n",
    "    return tf_example"
   ]
  },
  {
   "cell_type": "code",
   "execution_count": 19,
   "metadata": {},
   "outputs": [],
   "source": [
    "op = \"train.tfrecord\"\n",
    "writer = tf.io.TFRecordWriter(os.getcwd()+\"\\\\\"+op)\n",
    "\n",
    "for group in bt:\n",
    "    tf_example = create_tf_example(group, tp)\n",
    "    writer.write(tf_example.SerializeToString())\n",
    "\n",
    "writer.close()"
   ]
  },
  {
   "cell_type": "code",
   "execution_count": 20,
   "metadata": {},
   "outputs": [],
   "source": [
    "op = \"test.tfrecord\"\n",
    "writer = tf.io.TFRecordWriter(os.getcwd()+\"\\\\\"+op)\n",
    "\n",
    "for group in bv:\n",
    "    tf_example = create_tf_example(group, vp)\n",
    "    writer.write(tf_example.SerializeToString())\n",
    "\n",
    "writer.close()"
   ]
  },
  {
   "cell_type": "markdown",
   "metadata": {},
   "source": [
    "# 準備訓練用檔案"
   ]
  },
  {
   "cell_type": "code",
   "execution_count": null,
   "metadata": {},
   "outputs": [],
   "source": [
    "# move tfrecord , config, checkpoint, pbtxt."
   ]
  },
  {
   "cell_type": "code",
   "execution_count": null,
   "metadata": {},
   "outputs": [],
   "source": [
    "# https://blog.csdn.net/weixin_44238733/article/details/109861924"
   ]
  },
  {
   "cell_type": "code",
   "execution_count": 24,
   "metadata": {},
   "outputs": [],
   "source": [
    "S = \"item{\\n  id: 1\\n  name: 'person'\\n}\"\n",
    "\n",
    "with open(\"train.pbtxt\", \"w\", encoding=\"utf8\") as f:\n",
    "    f.write(S)\n",
    "    \n",
    "with open(\"test.pbtxt\", \"w\", encoding=\"utf8\") as f:\n",
    "    f.write(S)    "
   ]
  },
  {
   "cell_type": "code",
   "execution_count": 25,
   "metadata": {},
   "outputs": [
    {
     "name": "stdout",
     "output_type": "stream",
     "text": [
      "item{\n",
      "  id: 1\n",
      "  name: 'person'\n",
      "}\n"
     ]
    }
   ],
   "source": [
    "print(S)"
   ]
  },
  {
   "cell_type": "code",
   "execution_count": null,
   "metadata": {},
   "outputs": [],
   "source": [
    "# 修改config"
   ]
  },
  {
   "cell_type": "code",
   "execution_count": null,
   "metadata": {},
   "outputs": [],
   "source": [
    "# pip install typeguard"
   ]
  },
  {
   "cell_type": "code",
   "execution_count": null,
   "metadata": {},
   "outputs": [],
   "source": [
    "# python \"C:/Users/sky66/Downloads/models/research/object_detection/model_main_tf2.py\" --pipeline_config_path=\"C:/Users/sky66/Downloads/models/research/my_model/ssd_resnet50_v1_fpn_640x640_coco17_tpu-8.config\" --model_dir=\"C:/Users/sky66/Downloads/models/research/my_model/new_model\" --alsologtostderr"
   ]
  }
 ],
 "metadata": {
  "colab": {
   "collapsed_sections": [],
   "name": "eager_few_shot_training.ipynb",
   "provenance": []
  },
  "kernelspec": {
   "display_name": "Python 3 (ipykernel)",
   "language": "python",
   "name": "python3"
  },
  "language_info": {
   "codemirror_mode": {
    "name": "ipython",
    "version": 3
   },
   "file_extension": ".py",
   "mimetype": "text/x-python",
   "name": "python",
   "nbconvert_exporter": "python",
   "pygments_lexer": "ipython3",
   "version": "3.9.7"
  }
 },
 "nbformat": 4,
 "nbformat_minor": 1
}
